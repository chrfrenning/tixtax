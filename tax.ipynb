{
 "cells": [
  {
   "cell_type": "code",
   "execution_count": null,
   "metadata": {},
   "outputs": [],
   "source": [
    "# If you don't run this on a codespace you may need to\n",
    "# !pip install openpyxl"
   ]
  },
  {
   "cell_type": "code",
   "execution_count": null,
   "metadata": {},
   "outputs": [],
   "source": [
    "from datetime import date\n",
    "import pandas as pd\n",
    "import requests\n",
    "import json\n",
    "import os"
   ]
  },
  {
   "cell_type": "code",
   "execution_count": null,
   "metadata": {},
   "outputs": [],
   "source": [
    "# Save the export from Fidelity in the same folder as this notebook\n",
    "# see README, you should get a file called \"View closed lots.csv\"\n",
    "\n",
    "lots_filename = \"View closed lots.csv\"\n",
    "\n",
    "# load the lots file into a string\n",
    "lots = \"\"\n",
    "with open(lots_filename, \"r\") as f:\n",
    "    lots = f.read()\n",
    "\n",
    "# fix the header line\n",
    "lots = lots.replace(\"<span style=\\\"color: rgb(0, 0, 51); background-color: rgb(255, 255, 255);\\\">Date sold or transferred</span>\", \"Date sold\")\n",
    "# write temp file\n",
    "temp_filename = \"lots.tmp\"\n",
    "with open(temp_filename, \"w\") as f:\n",
    "    f.write(lots)\n",
    "# read temp file with pandas\n",
    "transactions = pd.read_csv(temp_filename)\n",
    "# delete temp file\n",
    "os.remove(temp_filename)\n",
    "\n",
    "# you may have / instead of - in the dates, so lets fix that\n",
    "transactions[\"Date sold\"] = transactions[\"Date sold\"].str.replace(\"/\", \"-\")\n",
    "transactions[\"Date acquired\"] = transactions[\"Date acquired\"].str.replace(\"/\", \"-\")\n",
    "\n",
    "# remove all lines that are not transactions\n",
    "transactions = transactions[(transactions[\"Term\"] == \"SHORT\") | (transactions[\"Term\"] == \"LONG\")]\n",
    "\n",
    "transactions.head()"
   ]
  },
  {
   "cell_type": "code",
   "execution_count": null,
   "metadata": {},
   "outputs": [],
   "source": [
    "# Convert columns from \"MMM-dd-yyyy\" to date type\n",
    "transactions[\"AcquiredDate\"] = pd.to_datetime(transactions[\"Date acquired\"], format=\"%b-%d-%Y\")\n",
    "transactions[\"SoldDate\"] = pd.to_datetime(transactions[\"Date sold\"], format=\"%b-%d-%Y\")\n",
    "transactions.head()"
   ]
  },
  {
   "cell_type": "code",
   "execution_count": null,
   "metadata": {},
   "outputs": [],
   "source": [
    "# convert Quantity to float, floor it, then convert to int for convenience\n",
    "transactions[\"Quantity\"] = transactions[\"Quantity\"].astype(float).floordiv(1).astype(int)\n",
    "transactions.head()"
   ]
  },
  {
   "cell_type": "code",
   "execution_count": null,
   "metadata": {},
   "outputs": [],
   "source": [
    "# Convert Cost basis from string with $ and commas to float\n",
    "transactions[\"CostUSD\"] = transactions[\"Cost basis\"].replace(\"[\\$,]\", \"\", regex=True).astype(float)\n",
    "\n",
    "# Same for Proceeds\n",
    "transactions[\"ProceedsUSD\"] = transactions[\"Proceeds\"].replace(\"[\\$,]\", \"\", regex=True).astype(float)\n",
    "\n",
    "# Just keep Gain/loss for reference, we won't use it\n",
    "transactions[\"Gain/loss\"] = transactions[\"Gain/loss\"].replace(\"[\\$,]\", \"\", regex=True).astype(float)\n",
    "\n",
    "transactions.head()"
   ]
  },
  {
   "cell_type": "code",
   "execution_count": null,
   "metadata": {},
   "outputs": [],
   "source": [
    "# Sum Gain/loss in USD\n",
    "sum_gain_loss = transactions['Gain/loss'].sum()\n",
    "print(f\"Sum Gain/Loss in USD: {sum_gain_loss}\")"
   ]
  },
  {
   "cell_type": "code",
   "execution_count": null,
   "metadata": {},
   "outputs": [],
   "source": [
    "# load historical yearly avg exchange rates for shares older than 10 yrs\n",
    "\n",
    "historical_rates = pd.read_csv(\"historical_usd.csv\", sep=\";\") # note norwegian csv with semicolons\n",
    "historical_rates[\"TIME_PERIOD\"] = historical_rates[\"TIME_PERIOD\"].astype(int)\n",
    "# OBS_VALUE is number with comma as decimal separator\n",
    "historical_rates[\"OBS_VALUE\"] = historical_rates[\"OBS_VALUE\"].str.replace(\",\", \".\")\n",
    "historical_rates[\"OBS_VALUE\"] = historical_rates[\"OBS_VALUE\"].astype(float)\n",
    "historical_rates.set_index(\"TIME_PERIOD\", inplace=True)"
   ]
  },
  {
   "cell_type": "code",
   "execution_count": null,
   "metadata": {},
   "outputs": [],
   "source": [
    "cache = {}\n",
    "\n",
    "def lookup_exchange_rate(lookup_date):\n",
    "    fdate = lookup_date.strftime(\"%Y-%m-%d\")\n",
    "\n",
    "    # if fdate is more than 10 years ago, lookup the year in historical data\n",
    "    if lookup_date.year < date.today().year - 10:\n",
    "        return historical_rates.loc[lookup_date.year][\"OBS_VALUE\"]\n",
    "\n",
    "    url = f\"https://data.norges-bank.no/api/data/EXR/B.USD.NOK.SP?startPeriod={fdate}&endPeriod={fdate}&format=sdmx-json&locale=no\"\n",
    "    \n",
    "    response = requests.get(url)\n",
    "    if ( response.status_code != 200 ):\n",
    "        raise Exception(f\"Failed to get exchange rate for {lookup_date} ({response.status_code})\")\n",
    "                        \n",
    "    data = response.json()\n",
    "    rate = float(data['data']['dataSets'][0]['series']['0:0:0:0']['observations']['0'][0])\n",
    "    return rate\n",
    "\n",
    "# there are some dates that are missing from the norwegian bank data set,\n",
    "# so we need to handle that, moving a day in time to find the first date with\n",
    "# a value\n",
    "def safe_lookup_exchange_rate(lookup_date):\n",
    "    if lookup_date in cache:\n",
    "        return cache[lookup_date]\n",
    "    \n",
    "    loop_date = lookup_date\n",
    "    while True:\n",
    "        try:\n",
    "            rate = lookup_exchange_rate(loop_date)\n",
    "            cache[lookup_date] = rate\n",
    "            return rate\n",
    "        except Exception as e:\n",
    "            print(f\"{e}\")\n",
    "            loop_date = loop_date - pd.DateOffset(days=1)"
   ]
  },
  {
   "cell_type": "code",
   "execution_count": null,
   "metadata": {},
   "outputs": [],
   "source": [
    "# Create a new column AcquiredExchangeRate and fill it with values from lookup_exchange_rate given the AcquiredDate column\n",
    "transactions[\"AcquiredExchangeRate\"] = transactions[\"AcquiredDate\"].apply(safe_lookup_exchange_rate)\n",
    "\n",
    "# Same for SoldDate\n",
    "transactions[\"SoldExchangeRate\"] = transactions[\"SoldDate\"].apply(safe_lookup_exchange_rate)\n",
    "\n",
    "transactions.head()"
   ]
  },
  {
   "cell_type": "code",
   "execution_count": null,
   "metadata": {},
   "outputs": [],
   "source": [
    "# Calculate CostNOK\n",
    "transactions[\"CostNOK\"] = transactions[\"CostUSD\"] * transactions[\"AcquiredExchangeRate\"]\n",
    "\n",
    "# Calculate ProceedsNOK\n",
    "transactions[\"ProceedsNOK\"] = transactions[\"ProceedsUSD\"] * transactions[\"SoldExchangeRate\"]\n",
    "\n",
    "# Calculate GainLossNOK\n",
    "transactions[\"GainLossNOK\"] = transactions[\"ProceedsNOK\"] - transactions[\"CostNOK\"]\n",
    "\n",
    "transactions.head()"
   ]
  },
  {
   "cell_type": "code",
   "execution_count": null,
   "metadata": {},
   "outputs": [],
   "source": [
    "# Analyse all years\n",
    "\n",
    "# Group by SoldDate.dt.year, sum Quantity, CostNOK,ProceedsNOK, GainLossNOK\n",
    "yearly_summary = transactions.groupby(transactions[\"SoldDate\"].dt.year).agg({\"Quantity\": \"sum\", \"CostNOK\": \"sum\", \"ProceedsNOK\": \"sum\", \"GainLossNOK\": \"sum\"})\n",
    "\n",
    "# pretty print\n",
    "yearly_summary.style.format(\"{:,.0f}\")"
   ]
  },
  {
   "cell_type": "code",
   "execution_count": null,
   "metadata": {},
   "outputs": [],
   "source": [
    "# FILTER ON THE SHARES SOLD LAST YEAR\n",
    "\n",
    "filtered_transactions = transactions[transactions[\"SoldDate\"].dt.year == (date.today().year-1)].copy()\n",
    "filtered_transactions.head()"
   ]
  },
  {
   "cell_type": "code",
   "execution_count": null,
   "metadata": {},
   "outputs": [],
   "source": [
    "# Sum GainLossNOK\n",
    "total_gain_loss = filtered_transactions[\"GainLossNOK\"].sum()\n",
    "total_gain_loss"
   ]
  },
  {
   "cell_type": "code",
   "execution_count": null,
   "metadata": {},
   "outputs": [],
   "source": [
    "# Save the documentation as Excel file for submission to tax authorities\n",
    "filtered_transactions.to_excel(\"transactions_processed.xlsx\")"
   ]
  }
 ],
 "metadata": {
  "kernelspec": {
   "display_name": "base",
   "language": "python",
   "name": "python3"
  },
  "language_info": {
   "codemirror_mode": {
    "name": "ipython",
    "version": 3
   },
   "file_extension": ".py",
   "mimetype": "text/x-python",
   "name": "python",
   "nbconvert_exporter": "python",
   "pygments_lexer": "ipython3",
   "version": "3.10.14"
  }
 },
 "nbformat": 4,
 "nbformat_minor": 2
}
