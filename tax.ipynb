{
 "cells": [
  {
   "cell_type": "code",
   "execution_count": null,
   "metadata": {},
   "outputs": [],
   "source": [
    "!pip install openpyxl"
   ]
  },
  {
   "cell_type": "code",
   "execution_count": null,
   "metadata": {},
   "outputs": [],
   "source": [
    "from datetime import date\n",
    "import pandas as pd\n",
    "import requests\n",
    "import json\n",
    "import os"
   ]
  },
  {
   "cell_type": "code",
   "execution_count": null,
   "metadata": {},
   "outputs": [],
   "source": [
    "# Read the transactions file (if you've adapted to the format of that file)\n",
    "transactions = pd.read_csv(\"transactions.csv\")\n",
    "transactions.head()"
   ]
  },
  {
   "cell_type": "code",
   "execution_count": null,
   "metadata": {},
   "outputs": [],
   "source": [
    "# or, if you've used the Export button in Fidelity, and have a file \"View closed lots.csv\", use this cell instead\n",
    "\n",
    "lots_filename = \"View closed lots.csv\"\n",
    "\n",
    "# load the lots file into a string\n",
    "lots = \"\"\n",
    "with open(lots_filename, \"r\") as f:\n",
    "    lots = f.read()\n",
    "\n",
    "# fix the header line\n",
    "lots = lots.replace(\"<span style=\\\"color: rgb(0, 0, 51); background-color: rgb(255, 255, 255);\\\">Date sold or transferred</span>\", \"Date sold\")\n",
    "# write temp file\n",
    "temp_filename = \"lots.tmp\"\n",
    "with open(temp_filename, \"w\") as f:\n",
    "    f.write(lots)\n",
    "# read temp file with pandas\n",
    "transactions = pd.read_csv(temp_filename)\n",
    "# delete temp file\n",
    "os.remove(temp_filename)\n",
    "\n",
    "# you may have / instead of - in the dates, so lets fix that\n",
    "transactions[\"Date sold\"] = transactions[\"Date sold\"].str.replace(\"/\", \"-\")\n",
    "transactions[\"Date acquired\"] = transactions[\"Date acquired\"].str.replace(\"/\", \"-\")\n",
    "\n",
    "# remove all lines that are not transactions\n",
    "transactions = transactions[(transactions[\"Term\"] == \"SHORT\") | (transactions[\"Term\"] == \"LONG\")]\n",
    "\n",
    "transactions.head()"
   ]
  },
  {
   "cell_type": "code",
   "execution_count": null,
   "metadata": {},
   "outputs": [],
   "source": [
    "# Convert columns from \"MMM-dd-yyyy\" to date\n",
    "transactions[\"AcquiredDate\"] = pd.to_datetime(transactions[\"Date acquired\"], format=\"%b-%d-%Y\")\n",
    "transactions[\"SoldDate\"] = pd.to_datetime(transactions[\"Date sold\"], format=\"%b-%d-%Y\")\n",
    "transactions.head()"
   ]
  },
  {
   "cell_type": "code",
   "execution_count": null,
   "metadata": {},
   "outputs": [],
   "source": [
    "# convert Quantity to float, floor it, then convert to int\n",
    "transactions[\"Quantity\"] = transactions[\"Quantity\"].astype(float).floordiv(1).astype(int)\n",
    "transactions.head()"
   ]
  },
  {
   "cell_type": "code",
   "execution_count": null,
   "metadata": {},
   "outputs": [],
   "source": [
    "# FILTER ON THE SHARES SOLD LAST YEAR\n",
    "\n",
    "transactions = transactions[transactions[\"SoldDate\"].dt.year == (date.today().year-1)]\n",
    "transactions.head()"
   ]
  },
  {
   "cell_type": "code",
   "execution_count": null,
   "metadata": {},
   "outputs": [],
   "source": [
    "# Convert Cost basis from string with $ and commas to float\n",
    "transactions[\"CostUSD\"] = transactions[\"Cost basis\"].replace(\"[\\$,]\", \"\", regex=True).astype(float)\n",
    "\n",
    "# Same for Proceeds\n",
    "transactions[\"ProceedsUSD\"] = transactions[\"Proceeds\"].replace(\"[\\$,]\", \"\", regex=True).astype(float)\n",
    "\n",
    "# Just keep Gain/loss for reference, we won't use it\n",
    "transactions[\"Gain/loss\"] = transactions[\"Gain/loss\"].replace(\"[\\$,]\", \"\", regex=True).astype(float)\n",
    "\n",
    "transactions.head()"
   ]
  },
  {
   "cell_type": "code",
   "execution_count": null,
   "metadata": {},
   "outputs": [],
   "source": [
    "# Sum Gain/loss in USD\n",
    "sum_gain_loss = transactions['Gain/loss'].sum()\n",
    "print(f\"Sum Gain/Loss in USD: {sum_gain_loss}\")"
   ]
  },
  {
   "cell_type": "code",
   "execution_count": null,
   "metadata": {},
   "outputs": [],
   "source": [
    "def lookup_exchange_rate(lookup_date):\n",
    "    fdate = lookup_date.strftime(\"%Y-%m-%d\")\n",
    "    url = f\"https://data.norges-bank.no/api/data/EXR/B.USD.NOK.SP?startPeriod={fdate}&endPeriod={fdate}&format=sdmx-json&locale=no\"\n",
    "    \n",
    "    response = requests.get(url)\n",
    "    data = response.json()\n",
    "\n",
    "    return float(data['data']['dataSets'][0]['series']['0:0:0:0']['observations']['0'][0])"
   ]
  },
  {
   "cell_type": "code",
   "execution_count": null,
   "metadata": {},
   "outputs": [],
   "source": [
    "d = date(2022, 12, 30)\n",
    "lookup_exchange_rate(d)"
   ]
  },
  {
   "cell_type": "code",
   "execution_count": null,
   "metadata": {},
   "outputs": [],
   "source": [
    "# Create a new column AcquiredExchangeRate and fill it with values from lookup_exchange_rate given the AcquiredDate column\n",
    "transactions[\"AcquiredExchangeRate\"] = transactions[\"AcquiredDate\"].apply(lookup_exchange_rate)\n",
    "\n",
    "# Same for SoldDate\n",
    "transactions[\"SoldExchangeRate\"] = transactions[\"SoldDate\"].apply(lookup_exchange_rate)\n",
    "\n",
    "transactions.head()"
   ]
  },
  {
   "cell_type": "code",
   "execution_count": null,
   "metadata": {},
   "outputs": [],
   "source": [
    "# Calculate CostNOK\n",
    "transactions[\"CostNOK\"] = transactions[\"CostUSD\"] * transactions[\"AcquiredExchangeRate\"]\n",
    "\n",
    "# Calculate ProceedsNOK\n",
    "transactions[\"ProceedsNOK\"] = transactions[\"ProceedsUSD\"] * transactions[\"SoldExchangeRate\"]\n",
    "\n",
    "# Calculate GainLossNOK\n",
    "transactions[\"GainLossNOK\"] = transactions[\"ProceedsNOK\"] - transactions[\"CostNOK\"]\n",
    "\n",
    "transactions.head()"
   ]
  },
  {
   "cell_type": "code",
   "execution_count": null,
   "metadata": {},
   "outputs": [],
   "source": [
    "# Sum GainLossNOK\n",
    "total_gain_loss = transactions[\"GainLossNOK\"].sum()\n",
    "total_gain_loss"
   ]
  },
  {
   "cell_type": "code",
   "execution_count": null,
   "metadata": {},
   "outputs": [],
   "source": [
    "# Calculate tax at 31%\n",
    "total_tax = total_gain_loss * 0.31\n",
    "total_tax"
   ]
  },
  {
   "cell_type": "code",
   "execution_count": null,
   "metadata": {},
   "outputs": [],
   "source": [
    "# Save the documentation as Excel file for submission to tax authorities\n",
    "transactions.to_excel(\"transactions_processed.xlsx\")"
   ]
  },
  {
   "cell_type": "code",
   "execution_count": null,
   "metadata": {},
   "outputs": [],
   "source": []
  }
 ],
 "metadata": {
  "kernelspec": {
   "display_name": "base",
   "language": "python",
   "name": "python3"
  },
  "language_info": {
   "codemirror_mode": {
    "name": "ipython",
    "version": 3
   },
   "file_extension": ".py",
   "mimetype": "text/x-python",
   "name": "python",
   "nbconvert_exporter": "python",
   "pygments_lexer": "ipython3",
   "version": "3.10.13"
  }
 },
 "nbformat": 4,
 "nbformat_minor": 2
}
